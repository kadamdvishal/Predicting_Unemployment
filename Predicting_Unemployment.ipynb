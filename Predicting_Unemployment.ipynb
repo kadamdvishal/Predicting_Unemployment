{
 "cells": [
  {
   "cell_type": "code",
   "execution_count": 1,
   "metadata": {},
   "outputs": [],
   "source": [
    "import pandas as pd \n",
    "import numpy as np  \n",
    "import matplotlib.pyplot as plt \n",
    "import seaborn as seabornInstance \n",
    "from sklearn.model_selection import train_test_split \n",
    "from sklearn.linear_model import LinearRegression\n",
    "from sklearn import metrics\n",
    "%matplotlib inline\n",
    "import seaborn as sns\n",
    "sns.set()"
   ]
  },
  {
   "cell_type": "code",
   "execution_count": 2,
   "metadata": {},
   "outputs": [
    {
     "data": {
      "text/html": [
       "<div>\n",
       "<style scoped>\n",
       "    .dataframe tbody tr th:only-of-type {\n",
       "        vertical-align: middle;\n",
       "    }\n",
       "\n",
       "    .dataframe tbody tr th {\n",
       "        vertical-align: top;\n",
       "    }\n",
       "\n",
       "    .dataframe thead th {\n",
       "        text-align: right;\n",
       "    }\n",
       "</style>\n",
       "<table border=\"1\" class=\"dataframe\">\n",
       "  <thead>\n",
       "    <tr style=\"text-align: right;\">\n",
       "      <th></th>\n",
       "      <th>Year</th>\n",
       "      <th>Month</th>\n",
       "      <th>No.Of Males Unemployed(15M24)</th>\n",
       "      <th>No.Of Females Unemployed (15M24)</th>\n",
       "      <th>Total No.Of persons Unemployed(15M24)</th>\n",
       "      <th>Percentage of Males Unemployed(15M24)</th>\n",
       "      <th>Percentage of Females Unemployed(15M24)</th>\n",
       "      <th>Percentage of all persons Unemployed(15M24)</th>\n",
       "      <th>No.Of Males Unemployed(25M74)</th>\n",
       "      <th>No.Of Females Unemployed (25M74)</th>\n",
       "      <th>Total No.Of persons Unemployed(25M74)</th>\n",
       "      <th>Percentage of Males Unemployed(25M74)</th>\n",
       "      <th>Percentage of Females Unemployed(25M74)</th>\n",
       "      <th>Percentage of all persons Unemployed(25M74)</th>\n",
       "    </tr>\n",
       "  </thead>\n",
       "  <tbody>\n",
       "    <tr>\n",
       "      <th>0</th>\n",
       "      <td>2014</td>\n",
       "      <td>1</td>\n",
       "      <td>30200.0</td>\n",
       "      <td>22200.0</td>\n",
       "      <td>52400.0</td>\n",
       "      <td>28.0</td>\n",
       "      <td>23.7</td>\n",
       "      <td>26.0</td>\n",
       "      <td>134100.0</td>\n",
       "      <td>76400.0</td>\n",
       "      <td>210500.0</td>\n",
       "      <td>12.4</td>\n",
       "      <td>8.8</td>\n",
       "      <td>10.8</td>\n",
       "    </tr>\n",
       "    <tr>\n",
       "      <th>1</th>\n",
       "      <td>2014</td>\n",
       "      <td>2</td>\n",
       "      <td>30600.0</td>\n",
       "      <td>21600.0</td>\n",
       "      <td>52200.0</td>\n",
       "      <td>28.5</td>\n",
       "      <td>23.5</td>\n",
       "      <td>26.2</td>\n",
       "      <td>133900.0</td>\n",
       "      <td>75000.0</td>\n",
       "      <td>208900.0</td>\n",
       "      <td>12.4</td>\n",
       "      <td>8.6</td>\n",
       "      <td>10.7</td>\n",
       "    </tr>\n",
       "    <tr>\n",
       "      <th>2</th>\n",
       "      <td>2014</td>\n",
       "      <td>3</td>\n",
       "      <td>30000.0</td>\n",
       "      <td>21500.0</td>\n",
       "      <td>51400.0</td>\n",
       "      <td>28.1</td>\n",
       "      <td>23.5</td>\n",
       "      <td>26.0</td>\n",
       "      <td>133100.0</td>\n",
       "      <td>73900.0</td>\n",
       "      <td>207000.0</td>\n",
       "      <td>12.3</td>\n",
       "      <td>8.5</td>\n",
       "      <td>10.6</td>\n",
       "    </tr>\n",
       "    <tr>\n",
       "      <th>3</th>\n",
       "      <td>2014</td>\n",
       "      <td>4</td>\n",
       "      <td>28800.0</td>\n",
       "      <td>21000.0</td>\n",
       "      <td>49800.0</td>\n",
       "      <td>27.3</td>\n",
       "      <td>23.2</td>\n",
       "      <td>25.4</td>\n",
       "      <td>131800.0</td>\n",
       "      <td>70200.0</td>\n",
       "      <td>202000.0</td>\n",
       "      <td>12.2</td>\n",
       "      <td>8.1</td>\n",
       "      <td>10.4</td>\n",
       "    </tr>\n",
       "    <tr>\n",
       "      <th>4</th>\n",
       "      <td>2014</td>\n",
       "      <td>5</td>\n",
       "      <td>28100.0</td>\n",
       "      <td>20400.0</td>\n",
       "      <td>48500.0</td>\n",
       "      <td>26.8</td>\n",
       "      <td>22.7</td>\n",
       "      <td>24.9</td>\n",
       "      <td>130200.0</td>\n",
       "      <td>69900.0</td>\n",
       "      <td>200100.0</td>\n",
       "      <td>12.1</td>\n",
       "      <td>8.0</td>\n",
       "      <td>10.3</td>\n",
       "    </tr>\n",
       "    <tr>\n",
       "      <th>...</th>\n",
       "      <td>...</td>\n",
       "      <td>...</td>\n",
       "      <td>...</td>\n",
       "      <td>...</td>\n",
       "      <td>...</td>\n",
       "      <td>...</td>\n",
       "      <td>...</td>\n",
       "      <td>...</td>\n",
       "      <td>...</td>\n",
       "      <td>...</td>\n",
       "      <td>...</td>\n",
       "      <td>...</td>\n",
       "      <td>...</td>\n",
       "      <td>...</td>\n",
       "    </tr>\n",
       "    <tr>\n",
       "      <th>77</th>\n",
       "      <td>2020</td>\n",
       "      <td>78</td>\n",
       "      <td>17500.0</td>\n",
       "      <td>20800.0</td>\n",
       "      <td>38300.0</td>\n",
       "      <td>14.2</td>\n",
       "      <td>17.6</td>\n",
       "      <td>15.9</td>\n",
       "      <td>48700.0</td>\n",
       "      <td>35100.0</td>\n",
       "      <td>83800.0</td>\n",
       "      <td>4.3</td>\n",
       "      <td>3.7</td>\n",
       "      <td>4.0</td>\n",
       "    </tr>\n",
       "    <tr>\n",
       "      <th>78</th>\n",
       "      <td>2020</td>\n",
       "      <td>79</td>\n",
       "      <td>24800.0</td>\n",
       "      <td>22700.0</td>\n",
       "      <td>47500.0</td>\n",
       "      <td>18.1</td>\n",
       "      <td>17.4</td>\n",
       "      <td>17.8</td>\n",
       "      <td>52800.0</td>\n",
       "      <td>47700.0</td>\n",
       "      <td>100500.0</td>\n",
       "      <td>4.6</td>\n",
       "      <td>4.9</td>\n",
       "      <td>4.7</td>\n",
       "    </tr>\n",
       "    <tr>\n",
       "      <th>79</th>\n",
       "      <td>2020</td>\n",
       "      <td>80</td>\n",
       "      <td>28600.0</td>\n",
       "      <td>23200.0</td>\n",
       "      <td>51900.0</td>\n",
       "      <td>19.6</td>\n",
       "      <td>16.8</td>\n",
       "      <td>18.2</td>\n",
       "      <td>55900.0</td>\n",
       "      <td>56800.0</td>\n",
       "      <td>112700.0</td>\n",
       "      <td>4.8</td>\n",
       "      <td>5.7</td>\n",
       "      <td>5.2</td>\n",
       "    </tr>\n",
       "    <tr>\n",
       "      <th>80</th>\n",
       "      <td>2020</td>\n",
       "      <td>81</td>\n",
       "      <td>33700.0</td>\n",
       "      <td>25900.0</td>\n",
       "      <td>59700.0</td>\n",
       "      <td>21.7</td>\n",
       "      <td>17.7</td>\n",
       "      <td>19.8</td>\n",
       "      <td>58100.0</td>\n",
       "      <td>62700.0</td>\n",
       "      <td>120800.0</td>\n",
       "      <td>4.9</td>\n",
       "      <td>6.3</td>\n",
       "      <td>5.6</td>\n",
       "    </tr>\n",
       "    <tr>\n",
       "      <th>81</th>\n",
       "      <td>2020</td>\n",
       "      <td>82</td>\n",
       "      <td>32900.0</td>\n",
       "      <td>24700.0</td>\n",
       "      <td>57600.0</td>\n",
       "      <td>21.4</td>\n",
       "      <td>16.6</td>\n",
       "      <td>19.0</td>\n",
       "      <td>59500.0</td>\n",
       "      <td>63400.0</td>\n",
       "      <td>123000.0</td>\n",
       "      <td>5.0</td>\n",
       "      <td>6.4</td>\n",
       "      <td>5.6</td>\n",
       "    </tr>\n",
       "  </tbody>\n",
       "</table>\n",
       "<p>82 rows × 14 columns</p>\n",
       "</div>"
      ],
      "text/plain": [
       "    Year  Month  No.Of Males Unemployed(15M24)  \\\n",
       "0   2014      1                        30200.0   \n",
       "1   2014      2                        30600.0   \n",
       "2   2014      3                        30000.0   \n",
       "3   2014      4                        28800.0   \n",
       "4   2014      5                        28100.0   \n",
       "..   ...    ...                            ...   \n",
       "77  2020     78                        17500.0   \n",
       "78  2020     79                        24800.0   \n",
       "79  2020     80                        28600.0   \n",
       "80  2020     81                        33700.0   \n",
       "81  2020     82                        32900.0   \n",
       "\n",
       "    No.Of Females Unemployed (15M24)  Total No.Of persons Unemployed(15M24)  \\\n",
       "0                            22200.0                                52400.0   \n",
       "1                            21600.0                                52200.0   \n",
       "2                            21500.0                                51400.0   \n",
       "3                            21000.0                                49800.0   \n",
       "4                            20400.0                                48500.0   \n",
       "..                               ...                                    ...   \n",
       "77                           20800.0                                38300.0   \n",
       "78                           22700.0                                47500.0   \n",
       "79                           23200.0                                51900.0   \n",
       "80                           25900.0                                59700.0   \n",
       "81                           24700.0                                57600.0   \n",
       "\n",
       "    Percentage of Males Unemployed(15M24)  \\\n",
       "0                                    28.0   \n",
       "1                                    28.5   \n",
       "2                                    28.1   \n",
       "3                                    27.3   \n",
       "4                                    26.8   \n",
       "..                                    ...   \n",
       "77                                   14.2   \n",
       "78                                   18.1   \n",
       "79                                   19.6   \n",
       "80                                   21.7   \n",
       "81                                   21.4   \n",
       "\n",
       "    Percentage of Females Unemployed(15M24)  \\\n",
       "0                                      23.7   \n",
       "1                                      23.5   \n",
       "2                                      23.5   \n",
       "3                                      23.2   \n",
       "4                                      22.7   \n",
       "..                                      ...   \n",
       "77                                     17.6   \n",
       "78                                     17.4   \n",
       "79                                     16.8   \n",
       "80                                     17.7   \n",
       "81                                     16.6   \n",
       "\n",
       "    Percentage of all persons Unemployed(15M24)  \\\n",
       "0                                          26.0   \n",
       "1                                          26.2   \n",
       "2                                          26.0   \n",
       "3                                          25.4   \n",
       "4                                          24.9   \n",
       "..                                          ...   \n",
       "77                                         15.9   \n",
       "78                                         17.8   \n",
       "79                                         18.2   \n",
       "80                                         19.8   \n",
       "81                                         19.0   \n",
       "\n",
       "    No.Of Males Unemployed(25M74)  No.Of Females Unemployed (25M74)  \\\n",
       "0                        134100.0                           76400.0   \n",
       "1                        133900.0                           75000.0   \n",
       "2                        133100.0                           73900.0   \n",
       "3                        131800.0                           70200.0   \n",
       "4                        130200.0                           69900.0   \n",
       "..                            ...                               ...   \n",
       "77                        48700.0                           35100.0   \n",
       "78                        52800.0                           47700.0   \n",
       "79                        55900.0                           56800.0   \n",
       "80                        58100.0                           62700.0   \n",
       "81                        59500.0                           63400.0   \n",
       "\n",
       "    Total No.Of persons Unemployed(25M74)  \\\n",
       "0                                210500.0   \n",
       "1                                208900.0   \n",
       "2                                207000.0   \n",
       "3                                202000.0   \n",
       "4                                200100.0   \n",
       "..                                    ...   \n",
       "77                                83800.0   \n",
       "78                               100500.0   \n",
       "79                               112700.0   \n",
       "80                               120800.0   \n",
       "81                               123000.0   \n",
       "\n",
       "    Percentage of Males Unemployed(25M74)  \\\n",
       "0                                    12.4   \n",
       "1                                    12.4   \n",
       "2                                    12.3   \n",
       "3                                    12.2   \n",
       "4                                    12.1   \n",
       "..                                    ...   \n",
       "77                                    4.3   \n",
       "78                                    4.6   \n",
       "79                                    4.8   \n",
       "80                                    4.9   \n",
       "81                                    5.0   \n",
       "\n",
       "    Percentage of Females Unemployed(25M74)  \\\n",
       "0                                       8.8   \n",
       "1                                       8.6   \n",
       "2                                       8.5   \n",
       "3                                       8.1   \n",
       "4                                       8.0   \n",
       "..                                      ...   \n",
       "77                                      3.7   \n",
       "78                                      4.9   \n",
       "79                                      5.7   \n",
       "80                                      6.3   \n",
       "81                                      6.4   \n",
       "\n",
       "    Percentage of all persons Unemployed(25M74)  \n",
       "0                                          10.8  \n",
       "1                                          10.7  \n",
       "2                                          10.6  \n",
       "3                                          10.4  \n",
       "4                                          10.3  \n",
       "..                                          ...  \n",
       "77                                          4.0  \n",
       "78                                          4.7  \n",
       "79                                          5.2  \n",
       "80                                          5.6  \n",
       "81                                          5.6  \n",
       "\n",
       "[82 rows x 14 columns]"
      ]
     },
     "execution_count": 2,
     "metadata": {},
     "output_type": "execute_result"
    }
   ],
   "source": [
    "UnEmp = pd.read_csv('D:\\ML_Project_Code_L00157079\\ML_Last_DataSet.csv')\n",
    "UnEmp"
   ]
  },
  {
   "cell_type": "code",
   "execution_count": 3,
   "metadata": {},
   "outputs": [],
   "source": [
    "X_Yr = UnEmp['Year'].values.reshape(-1,1)\n",
    "y_UnEmp = UnEmp['Total No.Of persons Unemployed(15M24)'].values.reshape(-1,1)"
   ]
  },
  {
   "cell_type": "code",
   "execution_count": 4,
   "metadata": {},
   "outputs": [],
   "source": [
    "X_UnEmp, X_test_UnEmp, y_UnEmp, y_test_UnEmp = train_test_split(X_Yr, y_UnEmp, test_size=0.2, random_state=0)"
   ]
  },
  {
   "cell_type": "code",
   "execution_count": 5,
   "metadata": {},
   "outputs": [],
   "source": [
    "# method 1 : Linear Regression"
   ]
  },
  {
   "cell_type": "code",
   "execution_count": 6,
   "metadata": {},
   "outputs": [
    {
     "data": {
      "text/plain": [
       "LinearRegression()"
      ]
     },
     "execution_count": 6,
     "metadata": {},
     "output_type": "execute_result"
    }
   ],
   "source": [
    "L_regression=LinearRegression()\n",
    "L_regression.fit(X_UnEmp,y_UnEmp)"
   ]
  },
  {
   "cell_type": "code",
   "execution_count": 7,
   "metadata": {},
   "outputs": [],
   "source": [
    "y_pred=L_regression.predict(X_test_UnEmp)"
   ]
  },
  {
   "cell_type": "code",
   "execution_count": 8,
   "metadata": {},
   "outputs": [
    {
     "data": {
      "image/png": "[encoded data removed]",
      "text/plain": [
       "<Figure size 432x288 with 1 Axes>"
      ]
     },
     "metadata": {},
     "output_type": "display_data"
    }
   ],
   "source": [
    "plt.scatter(X_test_UnEmp,y_test_UnEmp,color='red') \n",
    "plt.plot(X_test_UnEmp,y_pred,linewidth=2)\n",
    "plt.title('Linear Regression')\n",
    "plt.xlabel('Year')\n",
    "plt.ylabel('Total No.Of persons Unemployed(15M24)')\n",
    "plt.show()"
   ]
  },
  {
   "cell_type": "code",
   "execution_count": 9,
   "metadata": {},
   "outputs": [
    {
     "name": "stdout",
     "output_type": "stream",
     "text": [
      "Mean Absolute Error: 3619.508171366706\n",
      "Mean Squared Error: 27519623.08495988\n",
      "Root Mean Squared Error: 5245.914894940623\n"
     ]
    }
   ],
   "source": [
    "print('Mean Absolute Error:', metrics.mean_absolute_error(y_test_UnEmp, y_pred))\n",
    "print('Mean Squared Error:', metrics.mean_squared_error(y_test_UnEmp, y_pred)) \n",
    "print('Root Mean Squared Error:', np.sqrt(metrics.mean_squared_error(y_test_UnEmp, y_pred)))"
   ]
  },
  {
   "cell_type": "code",
   "execution_count": 10,
   "metadata": {},
   "outputs": [],
   "source": [
    "# Method 2 : Polynomial Regression"
   ]
  },
  {
   "cell_type": "code",
   "execution_count": 11,
   "metadata": {},
   "outputs": [],
   "source": [
    "from sklearn.preprocessing import PolynomialFeatures\n",
    "poly_reg_PR = PolynomialFeatures(degree=3)\n",
    "X = poly_reg_PR.fit_transform(X_Yr)\n",
    "\n",
    "from sklearn.preprocessing import StandardScaler\n",
    "sc_X = StandardScaler()\n",
    "X = sc_X.fit_transform(X)"
   ]
  },
  {
   "cell_type": "code",
   "execution_count": 12,
   "metadata": {},
   "outputs": [
    {
     "name": "stdout",
     "output_type": "stream",
     "text": [
      "Coefficient of Determination using ols method for Polynomial Regression =  0.07275654914373131\n"
     ]
    }
   ],
   "source": [
    "from sklearn.linear_model import SGDRegressor, LinearRegression\n",
    "lin_reg=LinearRegression()\n",
    "lin_reg.fit(X_UnEmp,y_UnEmp)\n",
    "\n",
    "#predicting the value\n",
    "y_pred = lin_reg.predict(X_test_UnEmp)\n",
    "from sklearn.metrics import r2_score\n",
    "r_squared = r2_score(y_test_UnEmp, y_pred)\n",
    "print(\"Coefficient of Determination using ols method for Polynomial Regression = \",r_squared)"
   ]
  },
  {
   "cell_type": "code",
   "execution_count": null,
   "metadata": {},
   "outputs": [],
   "source": []
  },
  {
   "cell_type": "code",
   "execution_count": 13,
   "metadata": {},
   "outputs": [],
   "source": [
    "# Method 3 : Decision Tree Regressor"
   ]
  },
  {
   "cell_type": "code",
   "execution_count": 14,
   "metadata": {},
   "outputs": [
    {
     "name": "stdout",
     "output_type": "stream",
     "text": [
      "Coefficient of Determination using ols method For Decision Tree Regressor =  0.012872954954784133\n"
     ]
    }
   ],
   "source": [
    "from sklearn.tree import DecisionTreeRegressor\n",
    "dtr = DecisionTreeRegressor(max_depth = 100)\n",
    "dtr.fit(X_UnEmp, y_UnEmp)\n",
    "y_pred = dtr.predict(X_test_UnEmp)\n",
    "from sklearn.metrics import r2_score\n",
    "r_squared = r2_score(y_test_UnEmp, y_pred)\n",
    "print(\"Coefficient of Determination using ols method For Decision Tree Regressor = \",r_squared)\n",
    "#print(dtr.score(X_test_PR,y_test_PR))\n",
    "#print(\"mean_squared_error=\",(y_test_PR, y_pred))"
   ]
  },
  {
   "cell_type": "code",
   "execution_count": 15,
   "metadata": {},
   "outputs": [
    {
     "data": {
      "text/plain": [
       "<matplotlib.axes._subplots.AxesSubplot at 0x2acc24cc8e0>"
      ]
     },
     "execution_count": 15,
     "metadata": {},
     "output_type": "execute_result"
    },
    {
     "data": {
      "image/png": "[encoded data removed]",
      "text/plain": [
       "<Figure size 432x288 with 1 Axes>"
      ]
     },
     "metadata": {},
     "output_type": "display_data"
    }
   ],
   "source": [
    "sns.residplot(y_test_UnEmp, y_pred, color=\"red\", scatter_kws={\"s\": 50})"
   ]
  },
  {
   "cell_type": "code",
   "execution_count": 16,
   "metadata": {},
   "outputs": [],
   "source": [
    "# Method 4 : K-nearest Neighbours Regression"
   ]
  },
  {
   "cell_type": "code",
   "execution_count": 17,
   "metadata": {},
   "outputs": [
    {
     "name": "stdout",
     "output_type": "stream",
     "text": [
      "Coefficient of Determination using ols method For K-nearest Neighbours Regression =  0.012872954954784133\n"
     ]
    }
   ],
   "source": [
    "from sklearn import neighbors\n",
    "knn_PR = neighbors.KNeighborsRegressor(n_neighbors=5)\n",
    "knn_PR.fit(X_UnEmp, y_UnEmp)\n",
    "\n",
    "predicted = knn_PR.predict(X_test_UnEmp)\n",
    "from sklearn.metrics import r2_score\n",
    "r_squared = r2_score(y_test_UnEmp, y_pred)\n",
    "print(\"Coefficient of Determination using ols method For K-nearest Neighbours Regression = \",r_squared)"
   ]
  },
  {
   "cell_type": "code",
   "execution_count": null,
   "metadata": {},
   "outputs": [],
   "source": []
  }
 ],
 "metadata": {
  "kernelspec": {
   "display_name": "Python 3",
   "language": "python",
   "name": "python3"
  },
  "language_info": {
   "codemirror_mode": {
    "name": "ipython",
    "version": 3
   },
   "file_extension": ".py",
   "mimetype": "text/x-python",
   "name": "python",
   "nbconvert_exporter": "python",
   "pygments_lexer": "ipython3",
   "version": "3.8.3"
  }
 },
 "nbformat": 4,
 "nbformat_minor": 4
}
